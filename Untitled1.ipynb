{
 "cells": [
  {
   "cell_type": "code",
   "execution_count": 168,
   "metadata": {
    "collapsed": true
   },
   "outputs": [],
   "source": [
    "%matplotlib inline  \n",
    "import pandas as pd\n",
    "import scipy\n",
    "import numpy as np\n",
    "from sklearn import linear_model\n",
    "import os \n",
    "import sys\n",
    "from datetime import timedelta as td\n",
    "import dateutil.parser\n",
    "import matplotlib as plt\n",
    "import re\n",
    "import math\n",
    "import statistics as st\n",
    "from sklearn import linear_model\n",
    "from sklearn import preprocessing\n",
    "import statsmodels.api as sm\n",
    "import statsmodels.formula.api as smf"
   ]
  },
  {
   "cell_type": "code",
   "execution_count": 169,
   "metadata": {
    "collapsed": false
   },
   "outputs": [],
   "source": [
    "data_corporate_yeild=pd.read_csv(\"AAA.csv\")\n",
    "data_corporate_yeild.DATE=pd.to_datetime(data_corporate_yeild.DATE)\n",
    "data_corporate_yeild.index=data_corporate_yeild.DATE\n",
    "data_corporate_yeild.drop('DATE',axis=1,inplace=True)\n",
    "data_corporate_yeild=data_corporate_yeild[data_corporate_yeild.index>='1/1/2001']\n",
    "data_corporate_yeild=data_corporate_yeild.resample('3M',closed ='left').mean()"
   ]
  },
  {
   "cell_type": "code",
   "execution_count": 170,
   "metadata": {
    "collapsed": false
   },
   "outputs": [
    {
     "data": {
      "text/html": [
       "<div>\n",
       "<table border=\"1\" class=\"dataframe\">\n",
       "  <thead>\n",
       "    <tr style=\"text-align: right;\">\n",
       "      <th></th>\n",
       "      <th>AAA</th>\n",
       "    </tr>\n",
       "    <tr>\n",
       "      <th>DATE</th>\n",
       "      <th></th>\n",
       "    </tr>\n",
       "  </thead>\n",
       "  <tbody>\n",
       "    <tr>\n",
       "      <th>2001-03-31</th>\n",
       "      <td>7.076667</td>\n",
       "    </tr>\n",
       "    <tr>\n",
       "      <th>2001-06-30</th>\n",
       "      <td>7.223333</td>\n",
       "    </tr>\n",
       "    <tr>\n",
       "      <th>2001-09-30</th>\n",
       "      <td>7.106667</td>\n",
       "    </tr>\n",
       "    <tr>\n",
       "      <th>2001-12-31</th>\n",
       "      <td>6.923333</td>\n",
       "    </tr>\n",
       "    <tr>\n",
       "      <th>2002-03-31</th>\n",
       "      <td>6.623333</td>\n",
       "    </tr>\n",
       "  </tbody>\n",
       "</table>\n",
       "</div>"
      ],
      "text/plain": [
       "                 AAA\n",
       "DATE                \n",
       "2001-03-31  7.076667\n",
       "2001-06-30  7.223333\n",
       "2001-09-30  7.106667\n",
       "2001-12-31  6.923333\n",
       "2002-03-31  6.623333"
      ]
     },
     "execution_count": 170,
     "metadata": {},
     "output_type": "execute_result"
    }
   ],
   "source": [
    "data_corporate_yeild.head(5)"
   ]
  },
  {
   "cell_type": "code",
   "execution_count": 171,
   "metadata": {
    "collapsed": false
   },
   "outputs": [],
   "source": [
    "data_yield=pd.read_excel(\"yield.xlsx\")\n",
    "data_yield.DATE=pd.to_datetime(data_yield.Date)\n",
    "data_yield.index=data_yield.Date\n",
    "data_yield.drop('Date',axis=1,inplace=True)\n",
    "data_yield=data_yield[data_yield.index>='1/1/2001']\n",
    "data_yield.dropna(inplace=True)\n",
    "data_yield['USD_GRM_spread']=data_yield['OTR/USD/10YR (Yield)']-data_yield['Germany Govt 10yr (Yield)']\n",
    "data_yield.drop(['Germany Govt 10yr (Yield)'],axis=1,inplace=True)\n",
    "data_yield=data_yield.resample('3M',closed ='left').mean()\n",
    "data_corporate_yeild['AAA']=data_corporate_yeild['AAA']-data_yield['OTR/USD/10YR (Yield)']"
   ]
  },
  {
   "cell_type": "code",
   "execution_count": 172,
   "metadata": {
    "collapsed": false
   },
   "outputs": [
    {
     "data": {
      "text/html": [
       "<div>\n",
       "<table border=\"1\" class=\"dataframe\">\n",
       "  <thead>\n",
       "    <tr style=\"text-align: right;\">\n",
       "      <th></th>\n",
       "      <th>OTR/USD/10YR (Yield)</th>\n",
       "      <th>USD_GRM_spread</th>\n",
       "    </tr>\n",
       "    <tr>\n",
       "      <th>Date</th>\n",
       "      <th></th>\n",
       "      <th></th>\n",
       "    </tr>\n",
       "  </thead>\n",
       "  <tbody>\n",
       "    <tr>\n",
       "      <th>2001-03-31</th>\n",
       "      <td>5.631395</td>\n",
       "      <td>0.869411</td>\n",
       "    </tr>\n",
       "    <tr>\n",
       "      <th>2001-06-30</th>\n",
       "      <td>5.850798</td>\n",
       "      <td>0.865767</td>\n",
       "    </tr>\n",
       "    <tr>\n",
       "      <th>2001-09-30</th>\n",
       "      <td>5.566358</td>\n",
       "      <td>0.668132</td>\n",
       "    </tr>\n",
       "    <tr>\n",
       "      <th>2001-12-31</th>\n",
       "      <td>5.318723</td>\n",
       "      <td>0.695084</td>\n",
       "    </tr>\n",
       "    <tr>\n",
       "      <th>2002-03-31</th>\n",
       "      <td>5.650477</td>\n",
       "      <td>0.655690</td>\n",
       "    </tr>\n",
       "  </tbody>\n",
       "</table>\n",
       "</div>"
      ],
      "text/plain": [
       "            OTR/USD/10YR (Yield)  USD_GRM_spread\n",
       "Date                                            \n",
       "2001-03-31              5.631395        0.869411\n",
       "2001-06-30              5.850798        0.865767\n",
       "2001-09-30              5.566358        0.668132\n",
       "2001-12-31              5.318723        0.695084\n",
       "2002-03-31              5.650477        0.655690"
      ]
     },
     "execution_count": 172,
     "metadata": {},
     "output_type": "execute_result"
    }
   ],
   "source": [
    "data_yield.head(5)"
   ]
  },
  {
   "cell_type": "code",
   "execution_count": 173,
   "metadata": {
    "collapsed": false,
    "scrolled": true
   },
   "outputs": [
    {
     "data": {
      "text/plain": [
       "<matplotlib.axes._subplots.AxesSubplot at 0x10fb24160>"
      ]
     },
     "execution_count": 173,
     "metadata": {},
     "output_type": "execute_result"
    },
    {
     "data": {
      "image/png": "[encoded data removed]",
      "text/plain": [
       "<matplotlib.figure.Figure at 0x10c6ae630>"
      ]
     },
     "metadata": {},
     "output_type": "display_data"
    }
   ],
   "source": [
    "data_yield.plot()"
   ]
  },
  {
   "cell_type": "markdown",
   "metadata": {},
   "source": [
    "### Use PPU data as y"
   ]
  },
  {
   "cell_type": "code",
   "execution_count": 174,
   "metadata": {
    "collapsed": false
   },
   "outputs": [],
   "source": [
    "metro_level_rent_price=pd.read_csv('metro_other_index.csv')"
   ]
  },
  {
   "cell_type": "code",
   "execution_count": 175,
   "metadata": {
    "collapsed": false
   },
   "outputs": [],
   "source": [
    "rent_index=metro_level_rent_price[metro_level_rent_price['DATA_TYPE']=='PPU']\n",
    "err_index=metro_level_rent_price[metro_level_rent_price['DATA_TYPE']=='ERR']"
   ]
  },
  {
   "cell_type": "code",
   "execution_count": 176,
   "metadata": {
    "collapsed": false
   },
   "outputs": [],
   "source": [
    "rent_index_com=rent_index[rent_index['SECTOR'].str.contains('COM')]\n",
    "rent_index_ret=rent_index[rent_index['SECTOR'].str.contains('RET')]\n",
    "rent_index_ret_t=rent_index_ret[pd.isnull(rent_index_ret['QUALIFIERS'])]\n",
    "rent_index_apt=rent_index[rent_index['SECTOR'].str.contains('APT')]\n",
    "rent_index_apt_t=rent_index_apt[pd.isnull(rent_index_apt['QUALIFIERS'])]\n",
    "rent_index=rent_index_com.append(rent_index_ret_t)\n",
    "rent_index=rent_index.append(rent_index_apt_t)"
   ]
  },
  {
   "cell_type": "code",
   "execution_count": 177,
   "metadata": {
    "collapsed": false
   },
   "outputs": [
    {
     "data": {
      "text/html": [
       "<div>\n",
       "<table border=\"1\" class=\"dataframe\">\n",
       "  <thead>\n",
       "    <tr style=\"text-align: right;\">\n",
       "      <th></th>\n",
       "      <th>DATA_TYPE</th>\n",
       "      <th>Date</th>\n",
       "      <th>MetroArea</th>\n",
       "      <th>Name</th>\n",
       "      <th>QUALIFIERS</th>\n",
       "      <th>SECTOR</th>\n",
       "      <th>SubMarket</th>\n",
       "      <th>value</th>\n",
       "    </tr>\n",
       "  </thead>\n",
       "  <tbody>\n",
       "    <tr>\n",
       "      <th>1764</th>\n",
       "      <td>PPU</td>\n",
       "      <td>1/1/2001</td>\n",
       "      <td>Denver</td>\n",
       "      <td>Denver Commercial Price ($/SqFt)</td>\n",
       "      <td>NaN</td>\n",
       "      <td>COM</td>\n",
       "      <td>Denver</td>\n",
       "      <td>66.889801</td>\n",
       "    </tr>\n",
       "    <tr>\n",
       "      <th>1765</th>\n",
       "      <td>PPU</td>\n",
       "      <td>4/1/2001</td>\n",
       "      <td>Denver</td>\n",
       "      <td>Denver Commercial Price ($/SqFt)</td>\n",
       "      <td>NaN</td>\n",
       "      <td>COM</td>\n",
       "      <td>Denver</td>\n",
       "      <td>126.147985</td>\n",
       "    </tr>\n",
       "    <tr>\n",
       "      <th>1766</th>\n",
       "      <td>PPU</td>\n",
       "      <td>7/1/2001</td>\n",
       "      <td>Denver</td>\n",
       "      <td>Denver Commercial Price ($/SqFt)</td>\n",
       "      <td>NaN</td>\n",
       "      <td>COM</td>\n",
       "      <td>Denver</td>\n",
       "      <td>87.579719</td>\n",
       "    </tr>\n",
       "    <tr>\n",
       "      <th>1767</th>\n",
       "      <td>PPU</td>\n",
       "      <td>10/1/2001</td>\n",
       "      <td>Denver</td>\n",
       "      <td>Denver Commercial Price ($/SqFt)</td>\n",
       "      <td>NaN</td>\n",
       "      <td>COM</td>\n",
       "      <td>Denver</td>\n",
       "      <td>86.506412</td>\n",
       "    </tr>\n",
       "    <tr>\n",
       "      <th>1768</th>\n",
       "      <td>PPU</td>\n",
       "      <td>1/1/2002</td>\n",
       "      <td>Denver</td>\n",
       "      <td>Denver Commercial Price ($/SqFt)</td>\n",
       "      <td>NaN</td>\n",
       "      <td>COM</td>\n",
       "      <td>Denver</td>\n",
       "      <td>83.579123</td>\n",
       "    </tr>\n",
       "  </tbody>\n",
       "</table>\n",
       "</div>"
      ],
      "text/plain": [
       "     DATA_TYPE       Date MetroArea                              Name  \\\n",
       "1764       PPU   1/1/2001    Denver  Denver Commercial Price ($/SqFt)   \n",
       "1765       PPU   4/1/2001    Denver  Denver Commercial Price ($/SqFt)   \n",
       "1766       PPU   7/1/2001    Denver  Denver Commercial Price ($/SqFt)   \n",
       "1767       PPU  10/1/2001    Denver  Denver Commercial Price ($/SqFt)   \n",
       "1768       PPU   1/1/2002    Denver  Denver Commercial Price ($/SqFt)   \n",
       "\n",
       "     QUALIFIERS SECTOR SubMarket       value  \n",
       "1764        NaN    COM    Denver   66.889801  \n",
       "1765        NaN    COM    Denver  126.147985  \n",
       "1766        NaN    COM    Denver   87.579719  \n",
       "1767        NaN    COM    Denver   86.506412  \n",
       "1768        NaN    COM    Denver   83.579123  "
      ]
     },
     "execution_count": 177,
     "metadata": {},
     "output_type": "execute_result"
    }
   ],
   "source": [
    "rent_index.head(5)"
   ]
  },
  {
   "cell_type": "code",
   "execution_count": 178,
   "metadata": {
    "collapsed": false
   },
   "outputs": [],
   "source": [
    "rent_index=rent_index[~rent_index.MetroArea.str.contains('Market')]\n",
    "rent_index.drop(['DATA_TYPE','Name','QUALIFIERS','SubMarket'],axis=1,inplace=True)"
   ]
  },
  {
   "cell_type": "code",
   "execution_count": 179,
   "metadata": {
    "collapsed": false
   },
   "outputs": [],
   "source": [
    "region_data=pd.read_csv('region.csv')\n",
    "region_data_rent_index=region_data[region_data['DATA_TYPE']=='PF1']"
   ]
  },
  {
   "cell_type": "code",
   "execution_count": 180,
   "metadata": {
    "collapsed": false
   },
   "outputs": [],
   "source": [
    "metro_areas=list(set(rent_index.MetroArea))"
   ]
  },
  {
   "cell_type": "code",
   "execution_count": 181,
   "metadata": {
    "collapsed": false
   },
   "outputs": [],
   "source": [
    "regions=list(set(region_data_rent_index.GEOGRAPHY))"
   ]
  },
  {
   "cell_type": "code",
   "execution_count": 182,
   "metadata": {
    "collapsed": false
   },
   "outputs": [],
   "source": [
    "cities_table=pd.read_excel('city map.xlsx',sheetname='city')\n",
    "cities_table.dropna(inplace=True)\n",
    "state_table=pd.read_excel('city map.xlsx',sheetname='state')\n",
    "region_table=pd.read_excel('city map.xlsx',sheetname='region')\n",
    "region_table.dropna(inplace=True)"
   ]
  },
  {
   "cell_type": "code",
   "execution_count": 183,
   "metadata": {
    "collapsed": false
   },
   "outputs": [],
   "source": [
    "state_region_dict={}\n",
    "for i in range(region_table.shape[0]):\n",
    "    temp=region_table.iloc[i]\n",
    "    states=[string.replace(' ','') for string in temp.state.split(',')]\n",
    "    for state in states:\n",
    "        state_region_dict[state]=temp['RCA region']"
   ]
  },
  {
   "cell_type": "code",
   "execution_count": 184,
   "metadata": {
    "collapsed": false
   },
   "outputs": [],
   "source": [
    "state_table=state_table.iloc[:,0:2]"
   ]
  },
  {
   "cell_type": "code",
   "execution_count": 185,
   "metadata": {
    "collapsed": false
   },
   "outputs": [],
   "source": [
    "state_breif_dict={}\n",
    "state_table.state=state_table.state.str.strip()\n",
    "state_table.breif=state_table.breif.str.strip()\n",
    "for i in range(state_table.shape[0]):\n",
    "    state_breif_dict[state_table.iloc[i,0]]=state_table.iloc[i,1]"
   ]
  },
  {
   "cell_type": "code",
   "execution_count": 186,
   "metadata": {
    "collapsed": false
   },
   "outputs": [
    {
     "data": {
      "text/plain": [
       "304"
      ]
     },
     "execution_count": 186,
     "metadata": {},
     "output_type": "execute_result"
    }
   ],
   "source": [
    "cities_table.shape[0]"
   ]
  },
  {
   "cell_type": "code",
   "execution_count": 187,
   "metadata": {
    "collapsed": false
   },
   "outputs": [],
   "source": [
    "city_region_dict={}\n",
    "for i in range(cities_table.shape[0]):\n",
    "    city_region_dict[cities_table.iloc[i,0]]=state_region_dict[state_breif_dict[cities_table.iloc[i,1]]]"
   ]
  },
  {
   "cell_type": "code",
   "execution_count": 188,
   "metadata": {
    "collapsed": false
   },
   "outputs": [],
   "source": [
    "dict1={}\n",
    "for metro in metro_areas:\n",
    "    if metro=='St Louis':\n",
    "        dict1[metro]='RCA - US Midwest'\n",
    "    elif metro=='Raleigh/Durham':\n",
    "        dict1[metro]='RCA - US Southeast'\n",
    "    elif metro=='Phila Metro':\n",
    "        dict1[metro]='RCA - Mid-Atlantic'\n",
    "    elif metro=='LA Metro':\n",
    "        dict1[metro]='RCA - West'\n",
    "    elif metro=='DC Metro':\n",
    "        dict1[metro]='RCA - Mid-Atlantic'\n",
    "    elif metro=='NYC Metro':\n",
    "        dict1[metro]='RCA - Mid-Atlantic'\n",
    "    elif metro=='SW Florida':\n",
    "        dict1[metro]='RCA - US Southeast'\n",
    "    elif metro=='So Fla':\n",
    "        dict1[metro]='RCA - US Southeast'\n",
    "    elif metro=='Birmingham(AL)':\n",
    "        dict1[metro]='RCA - US Southeast'\n",
    "    elif metro=='SF Metro':\n",
    "        dict1[metro]='RCA - West'\n",
    "    else:\n",
    "        dict1[metro]=city_region_dict[metro]"
   ]
  },
  {
   "cell_type": "code",
   "execution_count": 190,
   "metadata": {
    "collapsed": false
   },
   "outputs": [
    {
     "data": {
      "text/html": [
       "<div>\n",
       "<table border=\"1\" class=\"dataframe\">\n",
       "  <thead>\n",
       "    <tr style=\"text-align: right;\">\n",
       "      <th></th>\n",
       "      <th>DATA_TYPE</th>\n",
       "      <th>Date</th>\n",
       "      <th>GEOGRAPHY</th>\n",
       "      <th>SECTOR</th>\n",
       "      <th>value</th>\n",
       "    </tr>\n",
       "  </thead>\n",
       "  <tbody>\n",
       "    <tr>\n",
       "      <th>0</th>\n",
       "      <td>PF1</td>\n",
       "      <td>1/1/2001</td>\n",
       "      <td>RCA - US Southeast</td>\n",
       "      <td>APT</td>\n",
       "      <td>153.867967</td>\n",
       "    </tr>\n",
       "    <tr>\n",
       "      <th>1</th>\n",
       "      <td>PF1</td>\n",
       "      <td>4/1/2001</td>\n",
       "      <td>RCA - US Southeast</td>\n",
       "      <td>APT</td>\n",
       "      <td>140.482411</td>\n",
       "    </tr>\n",
       "    <tr>\n",
       "      <th>2</th>\n",
       "      <td>PF1</td>\n",
       "      <td>7/1/2001</td>\n",
       "      <td>RCA - US Southeast</td>\n",
       "      <td>APT</td>\n",
       "      <td>130.411249</td>\n",
       "    </tr>\n",
       "    <tr>\n",
       "      <th>3</th>\n",
       "      <td>PF1</td>\n",
       "      <td>10/1/2001</td>\n",
       "      <td>RCA - US Southeast</td>\n",
       "      <td>APT</td>\n",
       "      <td>123.034316</td>\n",
       "    </tr>\n",
       "    <tr>\n",
       "      <th>4</th>\n",
       "      <td>PF1</td>\n",
       "      <td>1/1/2002</td>\n",
       "      <td>RCA - US Southeast</td>\n",
       "      <td>APT</td>\n",
       "      <td>77.715912</td>\n",
       "    </tr>\n",
       "    <tr>\n",
       "      <th>5</th>\n",
       "      <td>PF1</td>\n",
       "      <td>4/1/2002</td>\n",
       "      <td>RCA - US Southeast</td>\n",
       "      <td>APT</td>\n",
       "      <td>106.871935</td>\n",
       "    </tr>\n",
       "    <tr>\n",
       "      <th>6</th>\n",
       "      <td>PF1</td>\n",
       "      <td>7/1/2002</td>\n",
       "      <td>RCA - US Southeast</td>\n",
       "      <td>APT</td>\n",
       "      <td>98.373560</td>\n",
       "    </tr>\n",
       "    <tr>\n",
       "      <th>7</th>\n",
       "      <td>PF1</td>\n",
       "      <td>10/1/2002</td>\n",
       "      <td>RCA - US Southeast</td>\n",
       "      <td>APT</td>\n",
       "      <td>105.273586</td>\n",
       "    </tr>\n",
       "    <tr>\n",
       "      <th>8</th>\n",
       "      <td>PF1</td>\n",
       "      <td>1/1/2003</td>\n",
       "      <td>RCA - US Southeast</td>\n",
       "      <td>APT</td>\n",
       "      <td>96.043066</td>\n",
       "    </tr>\n",
       "    <tr>\n",
       "      <th>9</th>\n",
       "      <td>PF1</td>\n",
       "      <td>4/1/2003</td>\n",
       "      <td>RCA - US Southeast</td>\n",
       "      <td>APT</td>\n",
       "      <td>104.539718</td>\n",
       "    </tr>\n",
       "    <tr>\n",
       "      <th>10</th>\n",
       "      <td>PF1</td>\n",
       "      <td>7/1/2003</td>\n",
       "      <td>RCA - US Southeast</td>\n",
       "      <td>APT</td>\n",
       "      <td>120.122599</td>\n",
       "    </tr>\n",
       "    <tr>\n",
       "      <th>11</th>\n",
       "      <td>PF1</td>\n",
       "      <td>10/1/2003</td>\n",
       "      <td>RCA - US Southeast</td>\n",
       "      <td>APT</td>\n",
       "      <td>101.219131</td>\n",
       "    </tr>\n",
       "    <tr>\n",
       "      <th>12</th>\n",
       "      <td>PF1</td>\n",
       "      <td>1/1/2004</td>\n",
       "      <td>RCA - US Southeast</td>\n",
       "      <td>APT</td>\n",
       "      <td>133.733717</td>\n",
       "    </tr>\n",
       "    <tr>\n",
       "      <th>13</th>\n",
       "      <td>PF1</td>\n",
       "      <td>4/1/2004</td>\n",
       "      <td>RCA - US Southeast</td>\n",
       "      <td>APT</td>\n",
       "      <td>129.289465</td>\n",
       "    </tr>\n",
       "    <tr>\n",
       "      <th>14</th>\n",
       "      <td>PF1</td>\n",
       "      <td>7/1/2004</td>\n",
       "      <td>RCA - US Southeast</td>\n",
       "      <td>APT</td>\n",
       "      <td>178.371135</td>\n",
       "    </tr>\n",
       "    <tr>\n",
       "      <th>15</th>\n",
       "      <td>PF1</td>\n",
       "      <td>10/1/2004</td>\n",
       "      <td>RCA - US Southeast</td>\n",
       "      <td>APT</td>\n",
       "      <td>132.018639</td>\n",
       "    </tr>\n",
       "    <tr>\n",
       "      <th>16</th>\n",
       "      <td>PF1</td>\n",
       "      <td>1/1/2005</td>\n",
       "      <td>RCA - US Southeast</td>\n",
       "      <td>APT</td>\n",
       "      <td>109.064300</td>\n",
       "    </tr>\n",
       "    <tr>\n",
       "      <th>17</th>\n",
       "      <td>PF1</td>\n",
       "      <td>4/1/2005</td>\n",
       "      <td>RCA - US Southeast</td>\n",
       "      <td>APT</td>\n",
       "      <td>115.958725</td>\n",
       "    </tr>\n",
       "    <tr>\n",
       "      <th>18</th>\n",
       "      <td>PF1</td>\n",
       "      <td>7/1/2005</td>\n",
       "      <td>RCA - US Southeast</td>\n",
       "      <td>APT</td>\n",
       "      <td>159.696523</td>\n",
       "    </tr>\n",
       "    <tr>\n",
       "      <th>19</th>\n",
       "      <td>PF1</td>\n",
       "      <td>10/1/2005</td>\n",
       "      <td>RCA - US Southeast</td>\n",
       "      <td>APT</td>\n",
       "      <td>134.867706</td>\n",
       "    </tr>\n",
       "    <tr>\n",
       "      <th>20</th>\n",
       "      <td>PF1</td>\n",
       "      <td>1/1/2006</td>\n",
       "      <td>RCA - US Southeast</td>\n",
       "      <td>APT</td>\n",
       "      <td>140.069295</td>\n",
       "    </tr>\n",
       "    <tr>\n",
       "      <th>21</th>\n",
       "      <td>PF1</td>\n",
       "      <td>4/1/2006</td>\n",
       "      <td>RCA - US Southeast</td>\n",
       "      <td>APT</td>\n",
       "      <td>104.023347</td>\n",
       "    </tr>\n",
       "    <tr>\n",
       "      <th>22</th>\n",
       "      <td>PF1</td>\n",
       "      <td>7/1/2006</td>\n",
       "      <td>RCA - US Southeast</td>\n",
       "      <td>APT</td>\n",
       "      <td>101.921648</td>\n",
       "    </tr>\n",
       "    <tr>\n",
       "      <th>23</th>\n",
       "      <td>PF1</td>\n",
       "      <td>10/1/2006</td>\n",
       "      <td>RCA - US Southeast</td>\n",
       "      <td>APT</td>\n",
       "      <td>104.200121</td>\n",
       "    </tr>\n",
       "    <tr>\n",
       "      <th>24</th>\n",
       "      <td>PF1</td>\n",
       "      <td>1/1/2007</td>\n",
       "      <td>RCA - US Southeast</td>\n",
       "      <td>APT</td>\n",
       "      <td>100.739227</td>\n",
       "    </tr>\n",
       "    <tr>\n",
       "      <th>25</th>\n",
       "      <td>PF1</td>\n",
       "      <td>4/1/2007</td>\n",
       "      <td>RCA - US Southeast</td>\n",
       "      <td>APT</td>\n",
       "      <td>109.009482</td>\n",
       "    </tr>\n",
       "    <tr>\n",
       "      <th>26</th>\n",
       "      <td>PF1</td>\n",
       "      <td>7/1/2007</td>\n",
       "      <td>RCA - US Southeast</td>\n",
       "      <td>APT</td>\n",
       "      <td>112.221604</td>\n",
       "    </tr>\n",
       "    <tr>\n",
       "      <th>27</th>\n",
       "      <td>PF1</td>\n",
       "      <td>10/1/2007</td>\n",
       "      <td>RCA - US Southeast</td>\n",
       "      <td>APT</td>\n",
       "      <td>106.655676</td>\n",
       "    </tr>\n",
       "    <tr>\n",
       "      <th>28</th>\n",
       "      <td>PF1</td>\n",
       "      <td>1/1/2008</td>\n",
       "      <td>RCA - US Southeast</td>\n",
       "      <td>APT</td>\n",
       "      <td>109.100337</td>\n",
       "    </tr>\n",
       "    <tr>\n",
       "      <th>29</th>\n",
       "      <td>PF1</td>\n",
       "      <td>4/1/2008</td>\n",
       "      <td>RCA - US Southeast</td>\n",
       "      <td>APT</td>\n",
       "      <td>85.127012</td>\n",
       "    </tr>\n",
       "    <tr>\n",
       "      <th>...</th>\n",
       "      <td>...</td>\n",
       "      <td>...</td>\n",
       "      <td>...</td>\n",
       "      <td>...</td>\n",
       "      <td>...</td>\n",
       "    </tr>\n",
       "    <tr>\n",
       "      <th>2175</th>\n",
       "      <td>PF1</td>\n",
       "      <td>4/1/2009</td>\n",
       "      <td>RCA - US Northeast</td>\n",
       "      <td>OFF</td>\n",
       "      <td>133.263056</td>\n",
       "    </tr>\n",
       "    <tr>\n",
       "      <th>2176</th>\n",
       "      <td>PF1</td>\n",
       "      <td>7/1/2009</td>\n",
       "      <td>RCA - US Northeast</td>\n",
       "      <td>OFF</td>\n",
       "      <td>191.809130</td>\n",
       "    </tr>\n",
       "    <tr>\n",
       "      <th>2177</th>\n",
       "      <td>PF1</td>\n",
       "      <td>10/1/2009</td>\n",
       "      <td>RCA - US Northeast</td>\n",
       "      <td>OFF</td>\n",
       "      <td>174.950197</td>\n",
       "    </tr>\n",
       "    <tr>\n",
       "      <th>2178</th>\n",
       "      <td>PF1</td>\n",
       "      <td>1/1/2010</td>\n",
       "      <td>RCA - US Northeast</td>\n",
       "      <td>OFF</td>\n",
       "      <td>127.454796</td>\n",
       "    </tr>\n",
       "    <tr>\n",
       "      <th>2179</th>\n",
       "      <td>PF1</td>\n",
       "      <td>4/1/2010</td>\n",
       "      <td>RCA - US Northeast</td>\n",
       "      <td>OFF</td>\n",
       "      <td>199.101101</td>\n",
       "    </tr>\n",
       "    <tr>\n",
       "      <th>2180</th>\n",
       "      <td>PF1</td>\n",
       "      <td>7/1/2010</td>\n",
       "      <td>RCA - US Northeast</td>\n",
       "      <td>OFF</td>\n",
       "      <td>228.489007</td>\n",
       "    </tr>\n",
       "    <tr>\n",
       "      <th>2181</th>\n",
       "      <td>PF1</td>\n",
       "      <td>10/1/2010</td>\n",
       "      <td>RCA - US Northeast</td>\n",
       "      <td>OFF</td>\n",
       "      <td>349.955920</td>\n",
       "    </tr>\n",
       "    <tr>\n",
       "      <th>2182</th>\n",
       "      <td>PF1</td>\n",
       "      <td>1/1/2011</td>\n",
       "      <td>RCA - US Northeast</td>\n",
       "      <td>OFF</td>\n",
       "      <td>314.981604</td>\n",
       "    </tr>\n",
       "    <tr>\n",
       "      <th>2183</th>\n",
       "      <td>PF1</td>\n",
       "      <td>4/1/2011</td>\n",
       "      <td>RCA - US Northeast</td>\n",
       "      <td>OFF</td>\n",
       "      <td>328.385476</td>\n",
       "    </tr>\n",
       "    <tr>\n",
       "      <th>2184</th>\n",
       "      <td>PF1</td>\n",
       "      <td>7/1/2011</td>\n",
       "      <td>RCA - US Northeast</td>\n",
       "      <td>OFF</td>\n",
       "      <td>365.568012</td>\n",
       "    </tr>\n",
       "    <tr>\n",
       "      <th>2185</th>\n",
       "      <td>PF1</td>\n",
       "      <td>10/1/2011</td>\n",
       "      <td>RCA - US Northeast</td>\n",
       "      <td>OFF</td>\n",
       "      <td>321.837121</td>\n",
       "    </tr>\n",
       "    <tr>\n",
       "      <th>2186</th>\n",
       "      <td>PF1</td>\n",
       "      <td>1/1/2012</td>\n",
       "      <td>RCA - US Northeast</td>\n",
       "      <td>OFF</td>\n",
       "      <td>365.859849</td>\n",
       "    </tr>\n",
       "    <tr>\n",
       "      <th>2187</th>\n",
       "      <td>PF1</td>\n",
       "      <td>4/1/2012</td>\n",
       "      <td>RCA - US Northeast</td>\n",
       "      <td>OFF</td>\n",
       "      <td>280.174520</td>\n",
       "    </tr>\n",
       "    <tr>\n",
       "      <th>2188</th>\n",
       "      <td>PF1</td>\n",
       "      <td>7/1/2012</td>\n",
       "      <td>RCA - US Northeast</td>\n",
       "      <td>OFF</td>\n",
       "      <td>309.773588</td>\n",
       "    </tr>\n",
       "    <tr>\n",
       "      <th>2189</th>\n",
       "      <td>PF1</td>\n",
       "      <td>10/1/2012</td>\n",
       "      <td>RCA - US Northeast</td>\n",
       "      <td>OFF</td>\n",
       "      <td>351.699147</td>\n",
       "    </tr>\n",
       "    <tr>\n",
       "      <th>2190</th>\n",
       "      <td>PF1</td>\n",
       "      <td>1/1/2013</td>\n",
       "      <td>RCA - US Northeast</td>\n",
       "      <td>OFF</td>\n",
       "      <td>411.813610</td>\n",
       "    </tr>\n",
       "    <tr>\n",
       "      <th>2191</th>\n",
       "      <td>PF1</td>\n",
       "      <td>4/1/2013</td>\n",
       "      <td>RCA - US Northeast</td>\n",
       "      <td>OFF</td>\n",
       "      <td>319.359970</td>\n",
       "    </tr>\n",
       "    <tr>\n",
       "      <th>2192</th>\n",
       "      <td>PF1</td>\n",
       "      <td>7/1/2013</td>\n",
       "      <td>RCA - US Northeast</td>\n",
       "      <td>OFF</td>\n",
       "      <td>381.798503</td>\n",
       "    </tr>\n",
       "    <tr>\n",
       "      <th>2193</th>\n",
       "      <td>PF1</td>\n",
       "      <td>10/1/2013</td>\n",
       "      <td>RCA - US Northeast</td>\n",
       "      <td>OFF</td>\n",
       "      <td>422.105666</td>\n",
       "    </tr>\n",
       "    <tr>\n",
       "      <th>2194</th>\n",
       "      <td>PF1</td>\n",
       "      <td>1/1/2014</td>\n",
       "      <td>RCA - US Northeast</td>\n",
       "      <td>OFF</td>\n",
       "      <td>371.778300</td>\n",
       "    </tr>\n",
       "    <tr>\n",
       "      <th>2195</th>\n",
       "      <td>PF1</td>\n",
       "      <td>4/1/2014</td>\n",
       "      <td>RCA - US Northeast</td>\n",
       "      <td>OFF</td>\n",
       "      <td>423.857200</td>\n",
       "    </tr>\n",
       "    <tr>\n",
       "      <th>2196</th>\n",
       "      <td>PF1</td>\n",
       "      <td>7/1/2014</td>\n",
       "      <td>RCA - US Northeast</td>\n",
       "      <td>OFF</td>\n",
       "      <td>378.726283</td>\n",
       "    </tr>\n",
       "    <tr>\n",
       "      <th>2197</th>\n",
       "      <td>PF1</td>\n",
       "      <td>10/1/2014</td>\n",
       "      <td>RCA - US Northeast</td>\n",
       "      <td>OFF</td>\n",
       "      <td>327.806748</td>\n",
       "    </tr>\n",
       "    <tr>\n",
       "      <th>2198</th>\n",
       "      <td>PF1</td>\n",
       "      <td>1/1/2015</td>\n",
       "      <td>RCA - US Northeast</td>\n",
       "      <td>OFF</td>\n",
       "      <td>491.430587</td>\n",
       "    </tr>\n",
       "    <tr>\n",
       "      <th>2199</th>\n",
       "      <td>PF1</td>\n",
       "      <td>4/1/2015</td>\n",
       "      <td>RCA - US Northeast</td>\n",
       "      <td>OFF</td>\n",
       "      <td>378.598411</td>\n",
       "    </tr>\n",
       "    <tr>\n",
       "      <th>2200</th>\n",
       "      <td>PF1</td>\n",
       "      <td>7/1/2015</td>\n",
       "      <td>RCA - US Northeast</td>\n",
       "      <td>OFF</td>\n",
       "      <td>468.532902</td>\n",
       "    </tr>\n",
       "    <tr>\n",
       "      <th>2201</th>\n",
       "      <td>PF1</td>\n",
       "      <td>10/1/2015</td>\n",
       "      <td>RCA - US Northeast</td>\n",
       "      <td>OFF</td>\n",
       "      <td>392.614714</td>\n",
       "    </tr>\n",
       "    <tr>\n",
       "      <th>2202</th>\n",
       "      <td>PF1</td>\n",
       "      <td>1/1/2016</td>\n",
       "      <td>RCA - US Northeast</td>\n",
       "      <td>OFF</td>\n",
       "      <td>472.374092</td>\n",
       "    </tr>\n",
       "    <tr>\n",
       "      <th>2203</th>\n",
       "      <td>PF1</td>\n",
       "      <td>4/1/2016</td>\n",
       "      <td>RCA - US Northeast</td>\n",
       "      <td>OFF</td>\n",
       "      <td>472.057458</td>\n",
       "    </tr>\n",
       "    <tr>\n",
       "      <th>2204</th>\n",
       "      <td>PF1</td>\n",
       "      <td>7/1/2016</td>\n",
       "      <td>RCA - US Northeast</td>\n",
       "      <td>OFF</td>\n",
       "      <td>278.852884</td>\n",
       "    </tr>\n",
       "  </tbody>\n",
       "</table>\n",
       "<p>1134 rows × 5 columns</p>\n",
       "</div>"
      ],
      "text/plain": [
       "     DATA_TYPE       Date           GEOGRAPHY SECTOR       value\n",
       "0          PF1   1/1/2001  RCA - US Southeast    APT  153.867967\n",
       "1          PF1   4/1/2001  RCA - US Southeast    APT  140.482411\n",
       "2          PF1   7/1/2001  RCA - US Southeast    APT  130.411249\n",
       "3          PF1  10/1/2001  RCA - US Southeast    APT  123.034316\n",
       "4          PF1   1/1/2002  RCA - US Southeast    APT   77.715912\n",
       "5          PF1   4/1/2002  RCA - US Southeast    APT  106.871935\n",
       "6          PF1   7/1/2002  RCA - US Southeast    APT   98.373560\n",
       "7          PF1  10/1/2002  RCA - US Southeast    APT  105.273586\n",
       "8          PF1   1/1/2003  RCA - US Southeast    APT   96.043066\n",
       "9          PF1   4/1/2003  RCA - US Southeast    APT  104.539718\n",
       "10         PF1   7/1/2003  RCA - US Southeast    APT  120.122599\n",
       "11         PF1  10/1/2003  RCA - US Southeast    APT  101.219131\n",
       "12         PF1   1/1/2004  RCA - US Southeast    APT  133.733717\n",
       "13         PF1   4/1/2004  RCA - US Southeast    APT  129.289465\n",
       "14         PF1   7/1/2004  RCA - US Southeast    APT  178.371135\n",
       "15         PF1  10/1/2004  RCA - US Southeast    APT  132.018639\n",
       "16         PF1   1/1/2005  RCA - US Southeast    APT  109.064300\n",
       "17         PF1   4/1/2005  RCA - US Southeast    APT  115.958725\n",
       "18         PF1   7/1/2005  RCA - US Southeast    APT  159.696523\n",
       "19         PF1  10/1/2005  RCA - US Southeast    APT  134.867706\n",
       "20         PF1   1/1/2006  RCA - US Southeast    APT  140.069295\n",
       "21         PF1   4/1/2006  RCA - US Southeast    APT  104.023347\n",
       "22         PF1   7/1/2006  RCA - US Southeast    APT  101.921648\n",
       "23         PF1  10/1/2006  RCA - US Southeast    APT  104.200121\n",
       "24         PF1   1/1/2007  RCA - US Southeast    APT  100.739227\n",
       "25         PF1   4/1/2007  RCA - US Southeast    APT  109.009482\n",
       "26         PF1   7/1/2007  RCA - US Southeast    APT  112.221604\n",
       "27         PF1  10/1/2007  RCA - US Southeast    APT  106.655676\n",
       "28         PF1   1/1/2008  RCA - US Southeast    APT  109.100337\n",
       "29         PF1   4/1/2008  RCA - US Southeast    APT   85.127012\n",
       "...        ...        ...                 ...    ...         ...\n",
       "2175       PF1   4/1/2009  RCA - US Northeast    OFF  133.263056\n",
       "2176       PF1   7/1/2009  RCA - US Northeast    OFF  191.809130\n",
       "2177       PF1  10/1/2009  RCA - US Northeast    OFF  174.950197\n",
       "2178       PF1   1/1/2010  RCA - US Northeast    OFF  127.454796\n",
       "2179       PF1   4/1/2010  RCA - US Northeast    OFF  199.101101\n",
       "2180       PF1   7/1/2010  RCA - US Northeast    OFF  228.489007\n",
       "2181       PF1  10/1/2010  RCA - US Northeast    OFF  349.955920\n",
       "2182       PF1   1/1/2011  RCA - US Northeast    OFF  314.981604\n",
       "2183       PF1   4/1/2011  RCA - US Northeast    OFF  328.385476\n",
       "2184       PF1   7/1/2011  RCA - US Northeast    OFF  365.568012\n",
       "2185       PF1  10/1/2011  RCA - US Northeast    OFF  321.837121\n",
       "2186       PF1   1/1/2012  RCA - US Northeast    OFF  365.859849\n",
       "2187       PF1   4/1/2012  RCA - US Northeast    OFF  280.174520\n",
       "2188       PF1   7/1/2012  RCA - US Northeast    OFF  309.773588\n",
       "2189       PF1  10/1/2012  RCA - US Northeast    OFF  351.699147\n",
       "2190       PF1   1/1/2013  RCA - US Northeast    OFF  411.813610\n",
       "2191       PF1   4/1/2013  RCA - US Northeast    OFF  319.359970\n",
       "2192       PF1   7/1/2013  RCA - US Northeast    OFF  381.798503\n",
       "2193       PF1  10/1/2013  RCA - US Northeast    OFF  422.105666\n",
       "2194       PF1   1/1/2014  RCA - US Northeast    OFF  371.778300\n",
       "2195       PF1   4/1/2014  RCA - US Northeast    OFF  423.857200\n",
       "2196       PF1   7/1/2014  RCA - US Northeast    OFF  378.726283\n",
       "2197       PF1  10/1/2014  RCA - US Northeast    OFF  327.806748\n",
       "2198       PF1   1/1/2015  RCA - US Northeast    OFF  491.430587\n",
       "2199       PF1   4/1/2015  RCA - US Northeast    OFF  378.598411\n",
       "2200       PF1   7/1/2015  RCA - US Northeast    OFF  468.532902\n",
       "2201       PF1  10/1/2015  RCA - US Northeast    OFF  392.614714\n",
       "2202       PF1   1/1/2016  RCA - US Northeast    OFF  472.374092\n",
       "2203       PF1   4/1/2016  RCA - US Northeast    OFF  472.057458\n",
       "2204       PF1   7/1/2016  RCA - US Northeast    OFF  278.852884\n",
       "\n",
       "[1134 rows x 5 columns]"
      ]
     },
     "execution_count": 190,
     "metadata": {},
     "output_type": "execute_result"
    }
   ],
   "source": [
    "=region_data_rent_index[region_data_rent_index['GEOGRAPHY']==]"
   ]
  },
  {
   "cell_type": "markdown",
   "metadata": {},
   "source": [
    "### join metro rent index"
   ]
  },
  {
   "cell_type": "code",
   "execution_count": 50,
   "metadata": {
    "collapsed": false
   },
   "outputs": [],
   "source": [
    "rent_index=pd.read_excel('mkp_mtf_2015q4.xls')"
   ]
  },
  {
   "cell_type": "code",
   "execution_count": 72,
   "metadata": {
    "collapsed": false
   },
   "outputs": [
    {
     "name": "stdout",
     "output_type": "stream",
     "text": [
      "Tampa\n",
      "NYC Metro\n",
      "Phila Metro\n",
      "DC Metro\n",
      "So Fla\n",
      "SW Florida\n",
      "SF Metro\n",
      "LA Metro\n"
     ]
    }
   ],
   "source": [
    "for area in list(set(metro_level_cppi.MetroArea)):\n",
    "    if area not in set(rent_index.Metro.str.strip()):\n",
    "        print(area)"
   ]
  },
  {
   "cell_type": "code",
   "execution_count": 82,
   "metadata": {
    "collapsed": false
   },
   "outputs": [
    {
     "data": {
      "text/plain": [
       "4775     Tampa-St. Petersburg\n",
       "4776     Tampa-St. Petersburg\n",
       "4777     Tampa-St. Petersburg\n",
       "4778     Tampa-St. Petersburg\n",
       "4779     Tampa-St. Petersburg\n",
       "4780     Tampa-St. Petersburg\n",
       "4781     Tampa-St. Petersburg\n",
       "4782     Tampa-St. Petersburg\n",
       "4783     Tampa-St. Petersburg\n",
       "4784     Tampa-St. Petersburg\n",
       "4785     Tampa-St. Petersburg\n",
       "4786     Tampa-St. Petersburg\n",
       "4787     Tampa-St. Petersburg\n",
       "4788     Tampa-St. Petersburg\n",
       "4789     Tampa-St. Petersburg\n",
       "4790     Tampa-St. Petersburg\n",
       "4791     Tampa-St. Petersburg\n",
       "4792     Tampa-St. Petersburg\n",
       "4793     Tampa-St. Petersburg\n",
       "4794     Tampa-St. Petersburg\n",
       "4795     Tampa-St. Petersburg\n",
       "4796     Tampa-St. Petersburg\n",
       "4797     Tampa-St. Petersburg\n",
       "4798     Tampa-St. Petersburg\n",
       "4799     Tampa-St. Petersburg\n",
       "4800     Tampa-St. Petersburg\n",
       "4801     Tampa-St. Petersburg\n",
       "4802     Tampa-St. Petersburg\n",
       "4803     Tampa-St. Petersburg\n",
       "4804     Tampa-St. Petersburg\n",
       "                 ...         \n",
       "22662    Tampa-St. Petersburg\n",
       "22663    Tampa-St. Petersburg\n",
       "22664    Tampa-St. Petersburg\n",
       "22665    Tampa-St. Petersburg\n",
       "22666    Tampa-St. Petersburg\n",
       "22667    Tampa-St. Petersburg\n",
       "22668    Tampa-St. Petersburg\n",
       "22669    Tampa-St. Petersburg\n",
       "22670    Tampa-St. Petersburg\n",
       "22671    Tampa-St. Petersburg\n",
       "22672    Tampa-St. Petersburg\n",
       "22673    Tampa-St. Petersburg\n",
       "22674    Tampa-St. Petersburg\n",
       "22675    Tampa-St. Petersburg\n",
       "22676    Tampa-St. Petersburg\n",
       "22677    Tampa-St. Petersburg\n",
       "22678    Tampa-St. Petersburg\n",
       "22679    Tampa-St. Petersburg\n",
       "22680    Tampa-St. Petersburg\n",
       "22681    Tampa-St. Petersburg\n",
       "22682    Tampa-St. Petersburg\n",
       "22683    Tampa-St. Petersburg\n",
       "22684    Tampa-St. Petersburg\n",
       "22685    Tampa-St. Petersburg\n",
       "22686    Tampa-St. Petersburg\n",
       "22687    Tampa-St. Petersburg\n",
       "22688    Tampa-St. Petersburg\n",
       "22689    Tampa-St. Petersburg\n",
       "22690    Tampa-St. Petersburg\n",
       "22691    Tampa-St. Petersburg\n",
       "Name: Metro.1, dtype: object"
      ]
     },
     "execution_count": 82,
     "metadata": {},
     "output_type": "execute_result"
    }
   ],
   "source": [
    "### Tampa ~ 'Tampa-St. Petersburg'\n",
    "###NYC Metro ~ New York Metro\n",
    "###Phila Metro ~ Philadelphia\n",
    "###DC Metro ~ District of Columbia \n",
    "### So Fla ~ Miami\n",
    "###SW Florida ~ Charlotte \n",
    "###SF Metro ~ 'San Francisco'\n",
    "###LA Metro ~ Los Angeles\n",
    "rent_index['Metro.1']=rent_index['Metro.1'].str.strip()\n",
    "rent_index['Metro.1'][rent_index['Metro.1'].str.contains('Tampa-St. Petersburg')]="
   ]
  },
  {
   "cell_type": "code",
   "execution_count": 13,
   "metadata": {
    "collapsed": true
   },
   "outputs": [],
   "source": []
  },
  {
   "cell_type": "code",
   "execution_count": 16,
   "metadata": {
    "collapsed": false
   },
   "outputs": [],
   "source": []
  },
  {
   "cell_type": "code",
   "execution_count": 17,
   "metadata": {
    "collapsed": false
   },
   "outputs": [],
   "source": []
  },
  {
   "cell_type": "code",
   "execution_count": 46,
   "metadata": {
    "collapsed": false
   },
   "outputs": [],
   "source": [
    "metro_areas=list(set(metro_level_data.SubMarkets))"
   ]
  },
  {
   "cell_type": "code",
   "execution_count": 19,
   "metadata": {
    "collapsed": false
   },
   "outputs": [],
   "source": [
    "yield_data=pd.concat([data_corporate_yeild,data_yield],axis=1)\n",
    "yield_data=yield_data.iloc[0:-1]"
   ]
  },
  {
   "cell_type": "code",
   "execution_count": 20,
   "metadata": {
    "collapsed": false
   },
   "outputs": [],
   "source": [
    "month_list=[]\n",
    "for year in np.arange(2001,2017):\n",
    "    for month in ['1','4','7','10']:\n",
    "        month_list.append(\"{1}/1/{0}\".format(year,month))\n",
    "month_list=month_list[0:-1]"
   ]
  },
  {
   "cell_type": "code",
   "execution_count": 21,
   "metadata": {
    "collapsed": false
   },
   "outputs": [],
   "source": [
    "yield_data['Date']=month_list"
   ]
  },
  {
   "cell_type": "code",
   "execution_count": 22,
   "metadata": {
    "collapsed": false
   },
   "outputs": [],
   "source": [
    "metro_level_data=metro_level_data.merge(yield_data,on=['Date'],how='left')"
   ]
  },
  {
   "cell_type": "code",
   "execution_count": 23,
   "metadata": {
    "collapsed": false
   },
   "outputs": [],
   "source": [
    "metro_level_data.drop('MetroArea',axis=1,inplace=True)"
   ]
  },
  {
   "cell_type": "code",
   "execution_count": 24,
   "metadata": {
    "collapsed": false
   },
   "outputs": [
    {
     "data": {
      "text/html": [
       "<div>\n",
       "<table border=\"1\" class=\"dataframe\">\n",
       "  <thead>\n",
       "    <tr style=\"text-align: right;\">\n",
       "      <th></th>\n",
       "      <th>Date</th>\n",
       "      <th>SECTOR</th>\n",
       "      <th>SubMarkets</th>\n",
       "      <th>cppi</th>\n",
       "      <th>rent</th>\n",
       "      <th>AAA</th>\n",
       "      <th>OTR/USD/10YR (Yield)</th>\n",
       "      <th>USD_GRM_spread</th>\n",
       "    </tr>\n",
       "  </thead>\n",
       "  <tbody>\n",
       "    <tr>\n",
       "      <th>0</th>\n",
       "      <td>1/1/2001</td>\n",
       "      <td>ALL</td>\n",
       "      <td>Denver</td>\n",
       "      <td>101.80120</td>\n",
       "      <td>NaN</td>\n",
       "      <td>1.445272</td>\n",
       "      <td>5.631395</td>\n",
       "      <td>0.869411</td>\n",
       "    </tr>\n",
       "    <tr>\n",
       "      <th>1</th>\n",
       "      <td>4/1/2001</td>\n",
       "      <td>ALL</td>\n",
       "      <td>Denver</td>\n",
       "      <td>101.76470</td>\n",
       "      <td>NaN</td>\n",
       "      <td>1.372535</td>\n",
       "      <td>5.850798</td>\n",
       "      <td>0.865767</td>\n",
       "    </tr>\n",
       "    <tr>\n",
       "      <th>2</th>\n",
       "      <td>7/1/2001</td>\n",
       "      <td>ALL</td>\n",
       "      <td>Denver</td>\n",
       "      <td>97.65075</td>\n",
       "      <td>NaN</td>\n",
       "      <td>1.540309</td>\n",
       "      <td>5.566358</td>\n",
       "      <td>0.668132</td>\n",
       "    </tr>\n",
       "    <tr>\n",
       "      <th>3</th>\n",
       "      <td>10/1/2001</td>\n",
       "      <td>ALL</td>\n",
       "      <td>Denver</td>\n",
       "      <td>94.19347</td>\n",
       "      <td>NaN</td>\n",
       "      <td>1.604610</td>\n",
       "      <td>5.318723</td>\n",
       "      <td>0.695084</td>\n",
       "    </tr>\n",
       "    <tr>\n",
       "      <th>4</th>\n",
       "      <td>1/1/2002</td>\n",
       "      <td>ALL</td>\n",
       "      <td>Denver</td>\n",
       "      <td>91.24156</td>\n",
       "      <td>NaN</td>\n",
       "      <td>0.972856</td>\n",
       "      <td>5.650477</td>\n",
       "      <td>0.655690</td>\n",
       "    </tr>\n",
       "  </tbody>\n",
       "</table>\n",
       "</div>"
      ],
      "text/plain": [
       "        Date SECTOR SubMarkets       cppi  rent       AAA  \\\n",
       "0   1/1/2001    ALL     Denver  101.80120   NaN  1.445272   \n",
       "1   4/1/2001    ALL     Denver  101.76470   NaN  1.372535   \n",
       "2   7/1/2001    ALL     Denver   97.65075   NaN  1.540309   \n",
       "3  10/1/2001    ALL     Denver   94.19347   NaN  1.604610   \n",
       "4   1/1/2002    ALL     Denver   91.24156   NaN  0.972856   \n",
       "\n",
       "   OTR/USD/10YR (Yield)  USD_GRM_spread  \n",
       "0              5.631395        0.869411  \n",
       "1              5.850798        0.865767  \n",
       "2              5.566358        0.668132  \n",
       "3              5.318723        0.695084  \n",
       "4              5.650477        0.655690  "
      ]
     },
     "execution_count": 24,
     "metadata": {},
     "output_type": "execute_result"
    }
   ],
   "source": [
    "metro_level_data.head(5)"
   ]
  },
  {
   "cell_type": "markdown",
   "metadata": {},
   "source": [
    "### Map elastic "
   ]
  },
  {
   "cell_type": "code",
   "execution_count": 25,
   "metadata": {
    "collapsed": false
   },
   "outputs": [],
   "source": [
    "elastic={}\n",
    "elastic['Phila Metro']=[1.65,48]\n",
    "elastic['DC Metro']=[1.61,43]\n",
    "elastic['San Diego']=[0.67,5]\n",
    "elastic['NYC Metro']=[0.76,9]\n",
    "elastic['Tampa']=[1.0,20]\n",
    "elastic['SF Metro']=[0.66,4]\n",
    "elastic['Atlanta']=[2.55,74]\n",
    "elastic['Denver']=[1.53,41]\n",
    "elastic['Baltimore']=[1.23,31]\n",
    "elastic['Phoenix']=[1.61,44]\n",
    "elastic['LA Metro']=[0.63,2]\n",
    "elastic['SW Florida']=[3.09,85]\n",
    "elastic['So Fla']=[0.83,14]\n",
    "elastic['Boston']=[0.86,15]\n",
    "elastic['Austin']=[3.0,84]\n",
    "elastic['Orlando']=[1.12,25]\n",
    "elastic['Seattle']=[0.88,16]\n",
    "elastic['Jacksonville']=[1.06,23]\n",
    "elastic['Houston']=[2.3,68]\n",
    "elastic['Chicago']=[0.81,12]\n",
    "elastic['Dallas']=[2.18,63]\n",
    "elastic['Sacramento']=[1.84,55]"
   ]
  },
  {
   "cell_type": "code",
   "execution_count": 26,
   "metadata": {
    "collapsed": false
   },
   "outputs": [],
   "source": [
    "metro_level_data['log rent']=metro_level_data.rent.apply(math.log)"
   ]
  },
  {
   "cell_type": "code",
   "execution_count": 27,
   "metadata": {
    "collapsed": true
   },
   "outputs": [],
   "source": [
    "metro_level_data['log cppi']=metro_level_data['cppi'].apply(math.log)"
   ]
  },
  {
   "cell_type": "code",
   "execution_count": 28,
   "metadata": {
    "collapsed": false
   },
   "outputs": [],
   "source": [
    "metro_level_data['log 10year rate']=metro_level_data['OTR/USD/10YR (Yield)'].apply(math.log)"
   ]
  },
  {
   "cell_type": "code",
   "execution_count": 29,
   "metadata": {
    "collapsed": false
   },
   "outputs": [],
   "source": [
    "for area in metro_areas:\n",
    "    if elastic[area][0] < st.median(elastic[area][0] for area in metro_areas):\n",
    "        elastic[area][1]=1\n",
    "    else:\n",
    "        elastic[area][1]=0"
   ]
  },
  {
   "cell_type": "code",
   "execution_count": 30,
   "metadata": {
    "collapsed": false
   },
   "outputs": [],
   "source": [
    "metro_level_data['inelastic']=[elastic[area][1] for area in metro_level_data.SubMarkets]"
   ]
  },
  {
   "cell_type": "code",
   "execution_count": 31,
   "metadata": {
    "collapsed": false
   },
   "outputs": [],
   "source": [
    "metro_level_data['intersect']=metro_level_data['inelastic']*metro_level_data['log 10year rate']"
   ]
  },
  {
   "cell_type": "code",
   "execution_count": 32,
   "metadata": {
    "collapsed": false
   },
   "outputs": [],
   "source": [
    "metro_level_data.dropna(inplace=True)\n",
    "metro_level_data=metro_level_data.reset_index(drop=True)"
   ]
  },
  {
   "cell_type": "markdown",
   "metadata": {},
   "source": [
    "### handle categorical data below"
   ]
  },
  {
   "cell_type": "code",
   "execution_count": 33,
   "metadata": {
    "collapsed": true
   },
   "outputs": [],
   "source": [
    "enc = preprocessing.LabelEncoder()"
   ]
  },
  {
   "cell_type": "code",
   "execution_count": 34,
   "metadata": {
    "collapsed": false
   },
   "outputs": [],
   "source": [
    "metro_level_data['cat_earea']=enc.fit_transform(metro_level_data.SubMarkets.astype('str'))  "
   ]
  },
  {
   "cell_type": "code",
   "execution_count": 35,
   "metadata": {
    "collapsed": false
   },
   "outputs": [
    {
     "data": {
      "text/html": [
       "<div>\n",
       "<table border=\"1\" class=\"dataframe\">\n",
       "  <thead>\n",
       "    <tr style=\"text-align: right;\">\n",
       "      <th></th>\n",
       "      <th>Date</th>\n",
       "      <th>SECTOR</th>\n",
       "      <th>SubMarkets</th>\n",
       "      <th>cppi</th>\n",
       "      <th>rent</th>\n",
       "      <th>AAA</th>\n",
       "      <th>OTR/USD/10YR (Yield)</th>\n",
       "      <th>USD_GRM_spread</th>\n",
       "      <th>log rent</th>\n",
       "      <th>log cppi</th>\n",
       "      <th>log 10year rate</th>\n",
       "      <th>inelastic</th>\n",
       "      <th>intersect</th>\n",
       "      <th>cat_earea</th>\n",
       "    </tr>\n",
       "  </thead>\n",
       "  <tbody>\n",
       "    <tr>\n",
       "      <th>0</th>\n",
       "      <td>1/1/2003</td>\n",
       "      <td>ALL</td>\n",
       "      <td>Denver</td>\n",
       "      <td>101.73820</td>\n",
       "      <td>14.57</td>\n",
       "      <td>1.510287</td>\n",
       "      <td>4.493046</td>\n",
       "      <td>0.423538</td>\n",
       "      <td>2.678965</td>\n",
       "      <td>4.622403</td>\n",
       "      <td>1.502531</td>\n",
       "      <td>0</td>\n",
       "      <td>0.0</td>\n",
       "      <td>6</td>\n",
       "    </tr>\n",
       "    <tr>\n",
       "      <th>1</th>\n",
       "      <td>4/1/2003</td>\n",
       "      <td>ALL</td>\n",
       "      <td>Denver</td>\n",
       "      <td>102.35750</td>\n",
       "      <td>14.19</td>\n",
       "      <td>1.111341</td>\n",
       "      <td>4.198659</td>\n",
       "      <td>0.306389</td>\n",
       "      <td>2.652537</td>\n",
       "      <td>4.628472</td>\n",
       "      <td>1.434765</td>\n",
       "      <td>0</td>\n",
       "      <td>0.0</td>\n",
       "      <td>6</td>\n",
       "    </tr>\n",
       "    <tr>\n",
       "      <th>2</th>\n",
       "      <td>7/1/2003</td>\n",
       "      <td>ALL</td>\n",
       "      <td>Denver</td>\n",
       "      <td>98.67167</td>\n",
       "      <td>13.84</td>\n",
       "      <td>0.907526</td>\n",
       "      <td>4.789141</td>\n",
       "      <td>0.672906</td>\n",
       "      <td>2.627563</td>\n",
       "      <td>4.591798</td>\n",
       "      <td>1.566351</td>\n",
       "      <td>0</td>\n",
       "      <td>0.0</td>\n",
       "      <td>6</td>\n",
       "    </tr>\n",
       "    <tr>\n",
       "      <th>3</th>\n",
       "      <td>10/1/2003</td>\n",
       "      <td>ALL</td>\n",
       "      <td>Denver</td>\n",
       "      <td>95.62849</td>\n",
       "      <td>13.61</td>\n",
       "      <td>0.804417</td>\n",
       "      <td>4.852250</td>\n",
       "      <td>0.533153</td>\n",
       "      <td>2.610805</td>\n",
       "      <td>4.560471</td>\n",
       "      <td>1.579443</td>\n",
       "      <td>0</td>\n",
       "      <td>0.0</td>\n",
       "      <td>6</td>\n",
       "    </tr>\n",
       "    <tr>\n",
       "      <th>4</th>\n",
       "      <td>1/1/2004</td>\n",
       "      <td>ALL</td>\n",
       "      <td>Denver</td>\n",
       "      <td>93.85298</td>\n",
       "      <td>13.38</td>\n",
       "      <td>0.870123</td>\n",
       "      <td>4.586544</td>\n",
       "      <td>0.505044</td>\n",
       "      <td>2.593761</td>\n",
       "      <td>4.541730</td>\n",
       "      <td>1.523127</td>\n",
       "      <td>0</td>\n",
       "      <td>0.0</td>\n",
       "      <td>6</td>\n",
       "    </tr>\n",
       "  </tbody>\n",
       "</table>\n",
       "</div>"
      ],
      "text/plain": [
       "        Date SECTOR SubMarkets       cppi   rent       AAA  \\\n",
       "0   1/1/2003    ALL     Denver  101.73820  14.57  1.510287   \n",
       "1   4/1/2003    ALL     Denver  102.35750  14.19  1.111341   \n",
       "2   7/1/2003    ALL     Denver   98.67167  13.84  0.907526   \n",
       "3  10/1/2003    ALL     Denver   95.62849  13.61  0.804417   \n",
       "4   1/1/2004    ALL     Denver   93.85298  13.38  0.870123   \n",
       "\n",
       "   OTR/USD/10YR (Yield)  USD_GRM_spread  log rent  log cppi  log 10year rate  \\\n",
       "0              4.493046        0.423538  2.678965  4.622403         1.502531   \n",
       "1              4.198659        0.306389  2.652537  4.628472         1.434765   \n",
       "2              4.789141        0.672906  2.627563  4.591798         1.566351   \n",
       "3              4.852250        0.533153  2.610805  4.560471         1.579443   \n",
       "4              4.586544        0.505044  2.593761  4.541730         1.523127   \n",
       "\n",
       "   inelastic  intersect  cat_earea  \n",
       "0          0        0.0          6  \n",
       "1          0        0.0          6  \n",
       "2          0        0.0          6  \n",
       "3          0        0.0          6  \n",
       "4          0        0.0          6  "
      ]
     },
     "execution_count": 35,
     "metadata": {},
     "output_type": "execute_result"
    }
   ],
   "source": [
    "metro_level_data.head(5)"
   ]
  },
  {
   "cell_type": "code",
   "execution_count": 36,
   "metadata": {
    "collapsed": false
   },
   "outputs": [
    {
     "data": {
      "text/plain": [
       "OneHotEncoder(categorical_features='all', dtype=<class 'float'>,\n",
       "       handle_unknown='error', n_values='auto', sparse=True)"
      ]
     },
     "execution_count": 36,
     "metadata": {},
     "output_type": "execute_result"
    }
   ],
   "source": [
    "numb=[]\n",
    "for number in list(set(metro_level_data['cat_earea'])):\n",
    "    numb.append([number]) \n",
    "enc2 = preprocessing.OneHotEncoder()\n",
    "enc2.fit(numb)"
   ]
  },
  {
   "cell_type": "code",
   "execution_count": 37,
   "metadata": {
    "collapsed": false
   },
   "outputs": [],
   "source": [
    "dict_num={}\n",
    "for i in list(set(metro_level_data.SubMarkets)):\n",
    "    dict_num[enc.transform(i)]=i"
   ]
  },
  {
   "cell_type": "code",
   "execution_count": 38,
   "metadata": {
    "collapsed": false
   },
   "outputs": [],
   "source": [
    "a=np.array(enc2.transform(metro_level_data['cat_earea'][0]).toarray())\n",
    "for i in np.arange(1,metro_level_data.shape[0]):\n",
    "    a=np.append(a,enc2.transform(metro_level_data['cat_earea'][i]).toarray(),axis=0)"
   ]
  },
  {
   "cell_type": "code",
   "execution_count": 39,
   "metadata": {
    "collapsed": false
   },
   "outputs": [],
   "source": [
    "a=pd.DataFrame(a)\n",
    "a.columns=[dict_num[i] for i in range(len(dict_num))]"
   ]
  },
  {
   "cell_type": "code",
   "execution_count": 40,
   "metadata": {
    "collapsed": false
   },
   "outputs": [],
   "source": [
    "metro_level_data=pd.merge(metro_level_data,a,left_index=True,right_index=True, how='inner')"
   ]
  },
  {
   "cell_type": "code",
   "execution_count": 42,
   "metadata": {
    "collapsed": false
   },
   "outputs": [
    {
     "ename": "KeyError",
     "evalue": "\"['Baltimore' 'Jacksonville' 'SW Florida'] not in index\"",
     "output_type": "error",
     "traceback": [
      "\u001b[1;31m---------------------------------------------------------------------------\u001b[0m",
      "\u001b[1;31mKeyError\u001b[0m                                  Traceback (most recent call last)",
      "\u001b[1;32m<ipython-input-42-ef5442f7bb0e>\u001b[0m in \u001b[0;36m<module>\u001b[1;34m()\u001b[0m\n\u001b[0;32m      3\u001b[0m        \u001b[1;34m'Houston'\u001b[0m\u001b[1;33m,\u001b[0m \u001b[1;34m'Jacksonville'\u001b[0m\u001b[1;33m,\u001b[0m \u001b[1;34m'LA Metro'\u001b[0m\u001b[1;33m,\u001b[0m \u001b[1;34m'NYC Metro'\u001b[0m\u001b[1;33m,\u001b[0m \u001b[1;34m'Orlando'\u001b[0m\u001b[1;33m,\u001b[0m\u001b[1;33m\u001b[0m\u001b[0m\n\u001b[0;32m      4\u001b[0m        \u001b[1;34m'Phila Metro'\u001b[0m\u001b[1;33m,\u001b[0m \u001b[1;34m'Phoenix'\u001b[0m\u001b[1;33m,\u001b[0m \u001b[1;34m'SF Metro'\u001b[0m\u001b[1;33m,\u001b[0m \u001b[1;34m'SW Florida'\u001b[0m\u001b[1;33m,\u001b[0m \u001b[1;34m'Sacramento'\u001b[0m\u001b[1;33m,\u001b[0m\u001b[1;33m\u001b[0m\u001b[0m\n\u001b[1;32m----> 5\u001b[1;33m        'San Diego', 'Seattle', 'So Fla', 'Tampa']]\n\u001b[0m\u001b[0;32m      6\u001b[0m \u001b[0mregress_y\u001b[0m\u001b[1;33m=\u001b[0m\u001b[0mmetro_level_data\u001b[0m\u001b[1;33m[\u001b[0m\u001b[1;34m'log cppi'\u001b[0m\u001b[1;33m]\u001b[0m\u001b[1;33m\u001b[0m\u001b[0m\n\u001b[0;32m      7\u001b[0m \u001b[0mmodel\u001b[0m \u001b[1;33m=\u001b[0m \u001b[0msm\u001b[0m\u001b[1;33m.\u001b[0m\u001b[0mOLS\u001b[0m\u001b[1;33m(\u001b[0m\u001b[0mregress_y\u001b[0m\u001b[1;33m,\u001b[0m\u001b[0mregress_x\u001b[0m\u001b[1;33m)\u001b[0m\u001b[1;33m\u001b[0m\u001b[0m\n",
      "\u001b[1;32mC:\\Users\\czhu\\AppData\\Local\\Continuum\\Anaconda3\\lib\\site-packages\\pandas\\core\\frame.py\u001b[0m in \u001b[0;36m__getitem__\u001b[1;34m(self, key)\u001b[0m\n\u001b[0;32m   1984\u001b[0m         \u001b[1;32mif\u001b[0m \u001b[0misinstance\u001b[0m\u001b[1;33m(\u001b[0m\u001b[0mkey\u001b[0m\u001b[1;33m,\u001b[0m \u001b[1;33m(\u001b[0m\u001b[0mSeries\u001b[0m\u001b[1;33m,\u001b[0m \u001b[0mnp\u001b[0m\u001b[1;33m.\u001b[0m\u001b[0mndarray\u001b[0m\u001b[1;33m,\u001b[0m \u001b[0mIndex\u001b[0m\u001b[1;33m,\u001b[0m \u001b[0mlist\u001b[0m\u001b[1;33m)\u001b[0m\u001b[1;33m)\u001b[0m\u001b[1;33m:\u001b[0m\u001b[1;33m\u001b[0m\u001b[0m\n\u001b[0;32m   1985\u001b[0m             \u001b[1;31m# either boolean or fancy integer index\u001b[0m\u001b[1;33m\u001b[0m\u001b[1;33m\u001b[0m\u001b[0m\n\u001b[1;32m-> 1986\u001b[1;33m             \u001b[1;32mreturn\u001b[0m \u001b[0mself\u001b[0m\u001b[1;33m.\u001b[0m\u001b[0m_getitem_array\u001b[0m\u001b[1;33m(\u001b[0m\u001b[0mkey\u001b[0m\u001b[1;33m)\u001b[0m\u001b[1;33m\u001b[0m\u001b[0m\n\u001b[0m\u001b[0;32m   1987\u001b[0m         \u001b[1;32melif\u001b[0m \u001b[0misinstance\u001b[0m\u001b[1;33m(\u001b[0m\u001b[0mkey\u001b[0m\u001b[1;33m,\u001b[0m \u001b[0mDataFrame\u001b[0m\u001b[1;33m)\u001b[0m\u001b[1;33m:\u001b[0m\u001b[1;33m\u001b[0m\u001b[0m\n\u001b[0;32m   1988\u001b[0m             \u001b[1;32mreturn\u001b[0m \u001b[0mself\u001b[0m\u001b[1;33m.\u001b[0m\u001b[0m_getitem_frame\u001b[0m\u001b[1;33m(\u001b[0m\u001b[0mkey\u001b[0m\u001b[1;33m)\u001b[0m\u001b[1;33m\u001b[0m\u001b[0m\n",
      "\u001b[1;32mC:\\Users\\czhu\\AppData\\Local\\Continuum\\Anaconda3\\lib\\site-packages\\pandas\\core\\frame.py\u001b[0m in \u001b[0;36m_getitem_array\u001b[1;34m(self, key)\u001b[0m\n\u001b[0;32m   2028\u001b[0m             \u001b[1;32mreturn\u001b[0m \u001b[0mself\u001b[0m\u001b[1;33m.\u001b[0m\u001b[0mtake\u001b[0m\u001b[1;33m(\u001b[0m\u001b[0mindexer\u001b[0m\u001b[1;33m,\u001b[0m \u001b[0maxis\u001b[0m\u001b[1;33m=\u001b[0m\u001b[1;36m0\u001b[0m\u001b[1;33m,\u001b[0m \u001b[0mconvert\u001b[0m\u001b[1;33m=\u001b[0m\u001b[1;32mFalse\u001b[0m\u001b[1;33m)\u001b[0m\u001b[1;33m\u001b[0m\u001b[0m\n\u001b[0;32m   2029\u001b[0m         \u001b[1;32melse\u001b[0m\u001b[1;33m:\u001b[0m\u001b[1;33m\u001b[0m\u001b[0m\n\u001b[1;32m-> 2030\u001b[1;33m             \u001b[0mindexer\u001b[0m \u001b[1;33m=\u001b[0m \u001b[0mself\u001b[0m\u001b[1;33m.\u001b[0m\u001b[0mix\u001b[0m\u001b[1;33m.\u001b[0m\u001b[0m_convert_to_indexer\u001b[0m\u001b[1;33m(\u001b[0m\u001b[0mkey\u001b[0m\u001b[1;33m,\u001b[0m \u001b[0maxis\u001b[0m\u001b[1;33m=\u001b[0m\u001b[1;36m1\u001b[0m\u001b[1;33m)\u001b[0m\u001b[1;33m\u001b[0m\u001b[0m\n\u001b[0m\u001b[0;32m   2031\u001b[0m             \u001b[1;32mreturn\u001b[0m \u001b[0mself\u001b[0m\u001b[1;33m.\u001b[0m\u001b[0mtake\u001b[0m\u001b[1;33m(\u001b[0m\u001b[0mindexer\u001b[0m\u001b[1;33m,\u001b[0m \u001b[0maxis\u001b[0m\u001b[1;33m=\u001b[0m\u001b[1;36m1\u001b[0m\u001b[1;33m,\u001b[0m \u001b[0mconvert\u001b[0m\u001b[1;33m=\u001b[0m\u001b[1;32mTrue\u001b[0m\u001b[1;33m)\u001b[0m\u001b[1;33m\u001b[0m\u001b[0m\n\u001b[0;32m   2032\u001b[0m \u001b[1;33m\u001b[0m\u001b[0m\n",
      "\u001b[1;32mC:\\Users\\czhu\\AppData\\Local\\Continuum\\Anaconda3\\lib\\site-packages\\pandas\\core\\indexing.py\u001b[0m in \u001b[0;36m_convert_to_indexer\u001b[1;34m(self, obj, axis, is_setter)\u001b[0m\n\u001b[0;32m   1208\u001b[0m                 \u001b[0mmask\u001b[0m \u001b[1;33m=\u001b[0m \u001b[0mcheck\u001b[0m \u001b[1;33m==\u001b[0m \u001b[1;33m-\u001b[0m\u001b[1;36m1\u001b[0m\u001b[1;33m\u001b[0m\u001b[0m\n\u001b[0;32m   1209\u001b[0m                 \u001b[1;32mif\u001b[0m \u001b[0mmask\u001b[0m\u001b[1;33m.\u001b[0m\u001b[0many\u001b[0m\u001b[1;33m(\u001b[0m\u001b[1;33m)\u001b[0m\u001b[1;33m:\u001b[0m\u001b[1;33m\u001b[0m\u001b[0m\n\u001b[1;32m-> 1210\u001b[1;33m                     \u001b[1;32mraise\u001b[0m \u001b[0mKeyError\u001b[0m\u001b[1;33m(\u001b[0m\u001b[1;34m'%s not in index'\u001b[0m \u001b[1;33m%\u001b[0m \u001b[0mobjarr\u001b[0m\u001b[1;33m[\u001b[0m\u001b[0mmask\u001b[0m\u001b[1;33m]\u001b[0m\u001b[1;33m)\u001b[0m\u001b[1;33m\u001b[0m\u001b[0m\n\u001b[0m\u001b[0;32m   1211\u001b[0m \u001b[1;33m\u001b[0m\u001b[0m\n\u001b[0;32m   1212\u001b[0m                 \u001b[1;32mreturn\u001b[0m \u001b[0m_values_from_object\u001b[0m\u001b[1;33m(\u001b[0m\u001b[0mindexer\u001b[0m\u001b[1;33m)\u001b[0m\u001b[1;33m\u001b[0m\u001b[0m\n",
      "\u001b[1;31mKeyError\u001b[0m: \"['Baltimore' 'Jacksonville' 'SW Florida'] not in index\""
     ]
    }
   ],
   "source": [
    "regress_x=metro_level_data[['log rent','USD_GRM_spread','AAA','log 10year rate','intersect','Atlanta', 'Austin',\n",
    "       'Baltimore', 'Boston', 'Chicago', 'DC Metro', 'Dallas', 'Denver',\n",
    "       'Houston', 'Jacksonville', 'LA Metro', 'NYC Metro', 'Orlando',\n",
    "       'Phila Metro', 'Phoenix', 'SF Metro', 'SW Florida', 'Sacramento',\n",
    "       'San Diego', 'Seattle', 'So Fla', 'Tampa']]\n",
    "regress_y=metro_level_data['log cppi']\n",
    "model = sm.OLS(regress_y,regress_x)"
   ]
  },
  {
   "cell_type": "code",
   "execution_count": null,
   "metadata": {
    "collapsed": false
   },
   "outputs": [],
   "source": [
    "regress_x.head(5)"
   ]
  },
  {
   "cell_type": "code",
   "execution_count": null,
   "metadata": {
    "collapsed": true
   },
   "outputs": [],
   "source": [
    "results = model.fit()"
   ]
  },
  {
   "cell_type": "markdown",
   "metadata": {},
   "source": [
    "### Regression Result:"
   ]
  },
  {
   "cell_type": "code",
   "execution_count": null,
   "metadata": {
    "collapsed": false
   },
   "outputs": [],
   "source": [
    "results.summary()"
   ]
  },
  {
   "cell_type": "markdown",
   "metadata": {},
   "source": [
    "### Insample and outsample regression"
   ]
  },
  {
   "cell_type": "code",
   "execution_count": null,
   "metadata": {
    "collapsed": false
   },
   "outputs": [],
   "source": [
    "metro_level_data['Date2']=pd.to_datetime(metro_level_data.Date)"
   ]
  },
  {
   "cell_type": "code",
   "execution_count": null,
   "metadata": {
    "collapsed": false
   },
   "outputs": [],
   "source": [
    "me1=metro_level_data[metro_level_data.Date2>='2016-01-01']\n",
    "me2=metro_level_data[metro_level_data.Date2<'2016-01-01']"
   ]
  },
  {
   "cell_type": "code",
   "execution_count": null,
   "metadata": {
    "collapsed": true
   },
   "outputs": [],
   "source": [
    "regress_x1=me2[['log rent','USD_GRM_spread','AAA','log 10year rate','intersect','Atlanta', 'Austin',\n",
    "       'Baltimore', 'Boston', 'Chicago', 'DC Metro', 'Dallas', 'Denver',\n",
    "       'Houston', 'Jacksonville', 'LA Metro', 'NYC Metro', 'Orlando',\n",
    "       'Phila Metro', 'Phoenix', 'SF Metro', 'SW Florida', 'Sacramento',\n",
    "       'San Diego', 'Seattle', 'So Fla', 'Tampa']]\n",
    "regress_y1=me2['log cppi']\n",
    "model = sm.OLS(regress_y1,regress_x1)"
   ]
  },
  {
   "cell_type": "code",
   "execution_count": null,
   "metadata": {
    "collapsed": false
   },
   "outputs": [],
   "source": [
    "results = model.fit()\n",
    "results.summary()"
   ]
  },
  {
   "cell_type": "code",
   "execution_count": null,
   "metadata": {
    "collapsed": true
   },
   "outputs": [],
   "source": [
    "regress_x1_test=me1[['log rent','USD_GRM_spread','AAA','log 10year rate','intersect','Atlanta', 'Austin',\n",
    "       'Baltimore', 'Boston', 'Chicago', 'DC Metro', 'Dallas', 'Denver',\n",
    "       'Houston', 'Jacksonville', 'LA Metro', 'NYC Metro', 'Orlando',\n",
    "       'Phila Metro', 'Phoenix', 'SF Metro', 'SW Florida', 'Sacramento',\n",
    "       'San Diego', 'Seattle', 'So Fla', 'Tampa']]\n",
    "regress_y1_test=me1['log cppi']"
   ]
  },
  {
   "cell_type": "code",
   "execution_count": null,
   "metadata": {
    "collapsed": false
   },
   "outputs": [],
   "source": [
    "def r_sqaure(y_true,y_fit):\n",
    "    SSR=(y_fit-st.mean(y_true)).dot(y_fit-st.mean(y_true))\n",
    "    TSR=(y_true-st.mean(y_true)).dot(y_true-st.mean(y_true))\n",
    "    return SSR/TSR"
   ]
  },
  {
   "cell_type": "code",
   "execution_count": null,
   "metadata": {
    "collapsed": false
   },
   "outputs": [],
   "source": [
    "r_sqaure(regress_y1_test,results.predict(regress_x1_test))"
   ]
  },
  {
   "cell_type": "code",
   "execution_count": null,
   "metadata": {
    "collapsed": true
   },
   "outputs": [],
   "source": []
  }
 ],
 "metadata": {
  "kernelspec": {
   "display_name": "Python 3",
   "language": "python",
   "name": "python3"
  },
  "language_info": {
   "codemirror_mode": {
    "name": "ipython",
    "version": 3
   },
   "file_extension": ".py",
   "mimetype": "text/x-python",
   "name": "python",
   "nbconvert_exporter": "python",
   "pygments_lexer": "ipython3",
   "version": "3.5.1"
  }
 },
 "nbformat": 4,
 "nbformat_minor": 0
}
